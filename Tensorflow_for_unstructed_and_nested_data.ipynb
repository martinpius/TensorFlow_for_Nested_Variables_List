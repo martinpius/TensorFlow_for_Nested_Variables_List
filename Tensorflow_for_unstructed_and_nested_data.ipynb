{
  "nbformat": 4,
  "nbformat_minor": 0,
  "metadata": {
    "colab": {
      "name": "Tensorflow for unstructed and nested data.ipynb",
      "provenance": [],
      "authorship_tag": "ABX9TyOa/7jnqcquq2iMWPSZenqG",
      "include_colab_link": true
    },
    "kernelspec": {
      "name": "python3",
      "display_name": "Python 3"
    }
  },
  "cells": [
    {
      "cell_type": "markdown",
      "metadata": {
        "id": "view-in-github",
        "colab_type": "text"
      },
      "source": [
        "<a href=\"https://colab.research.google.com/github/martinpius/TensorFlow_for_Nested_Variables_List/blob/main/Tensorflow_for_unstructed_and_nested_data.ipynb\" target=\"_parent\"><img src=\"https://colab.research.google.com/assets/colab-badge.svg\" alt=\"Open In Colab\"/></a>"
      ]
    },
    {
      "cell_type": "code",
      "metadata": {
        "colab": {
          "base_uri": "https://localhost:8080/"
        },
        "id": "DI_B3ZOK_qwa",
        "outputId": "ab452f43-a8f2-497b-af04-d8895fad7d52"
      },
      "source": [
        "from google.colab import drive\n",
        "try:\n",
        "  drive.mount(\"/content/drive\", force_remount = True)\n",
        "  COLAB = True\n",
        "  import tensorflow as tf\n",
        "  print(f\"You are using google colab with tensorflow version: {tf.__version__}\")\n",
        "except Exception as e:\n",
        "  COLAB = False\n",
        "  print(f\"{type(e)}: {e}\\n....Load your drive....\")\n",
        "\n",
        "def time_fmt(t):\n",
        "  h = int(t/ (60 * 60))\n",
        "  m = int(t % (60 * 60)/ 60)\n",
        "  s = int(t % 60)\n",
        "  return f\"{h}:{m:>03}:{s:>05.2f}\""
      ],
      "execution_count": 2,
      "outputs": [
        {
          "output_type": "stream",
          "text": [
            "Mounted at /content/drive\n",
            "You are using google colab with tensorflow version: 2.3.0\n"
          ],
          "name": "stdout"
        }
      ]
    },
    {
      "cell_type": "code",
      "metadata": {
        "id": "wl1qAo8fBXu3"
      },
      "source": [
        "import tensorflow as tf\n",
        "import numpy as np\n",
        "import time\n",
        "from datetime import datetime\n"
      ],
      "execution_count": 3,
      "outputs": []
    },
    {
      "cell_type": "code",
      "metadata": {
        "id": "Py-dTR6fBtIX"
      },
      "source": [
        "#Real life applications uses a lot of complex data structures which comes in terms of\n",
        "#unstructed data such as audio (sound waves), videos strams, texts and many more\n",
        "#These data can be manipulated directly with tensorflow without changing the dimension or padding.\n",
        "#This is handled by using ragged tensors\n"
      ],
      "execution_count": 4,
      "outputs": []
    },
    {
      "cell_type": "code",
      "metadata": {
        "id": "C6z6GejbCx2V"
      },
      "source": [
        "#Consider the follwing examples\n",
        "v1 = tf.ragged.constant([[1,2,3],[3,4],[8],[],[9,10,12,44]], dtype= tf.float32)\n",
        "v2 =tf.ragged.constant([['Ragged tensor'],['can handle various'],['data'],['structure and use similar ops to regular tensors']])"
      ],
      "execution_count": 5,
      "outputs": []
    },
    {
      "cell_type": "code",
      "metadata": {
        "colab": {
          "base_uri": "https://localhost:8080/",
          "height": 34
        },
        "id": "9firceooD9px",
        "outputId": "7f259e24-7708-4932-86bf-90a3c854fc24"
      },
      "source": [
        "display(v1)"
      ],
      "execution_count": 6,
      "outputs": [
        {
          "output_type": "display_data",
          "data": {
            "text/plain": [
              "<tf.RaggedTensor [[1.0, 2.0, 3.0], [3.0, 4.0], [8.0], [], [9.0, 10.0, 12.0, 44.0]]>"
            ]
          },
          "metadata": {
            "tags": []
          }
        }
      ]
    },
    {
      "cell_type": "code",
      "metadata": {
        "colab": {
          "base_uri": "https://localhost:8080/",
          "height": 34
        },
        "id": "9SFTSXngEASz",
        "outputId": "9a56b915-eb50-4ece-ad21-d373e29c035a"
      },
      "source": [
        "display(v2)"
      ],
      "execution_count": 7,
      "outputs": [
        {
          "output_type": "display_data",
          "data": {
            "text/plain": [
              "<tf.RaggedTensor [[b'Ragged tensor'], [b'can handle various'], [b'data'], [b'structure and use similar ops to regular tensors']]>"
            ]
          },
          "metadata": {
            "tags": []
          }
        }
      ]
    },
    {
      "cell_type": "code",
      "metadata": {
        "colab": {
          "base_uri": "https://localhost:8080/"
        },
        "id": "0w9JhRTrECVy",
        "outputId": "000cae40-1f6c-4019-f9aa-0b13a18a90d8"
      },
      "source": [
        "#We can work with common tensorflow operations on ragged tensors\n",
        "print(tf.concat([v1, [[0.]]], axis = 0))#Concatenation of tensors"
      ],
      "execution_count": 8,
      "outputs": [
        {
          "output_type": "stream",
          "text": [
            "<tf.RaggedTensor [[1.0, 2.0, 3.0], [3.0, 4.0], [8.0], [], [9.0, 10.0, 12.0, 44.0], [0.0]]>\n"
          ],
          "name": "stdout"
        }
      ]
    },
    {
      "cell_type": "code",
      "metadata": {
        "colab": {
          "base_uri": "https://localhost:8080/"
        },
        "id": "z62ZOzHMEyQ7",
        "outputId": "09555ce3-737f-4e55-bba1-3a3ebd3d3650"
      },
      "source": [
        "print(tf.reduce_mean(v1, axis = 1))"
      ],
      "execution_count": 9,
      "outputs": [
        {
          "output_type": "stream",
          "text": [
            "tf.Tensor([ 2.    3.5   8.     nan 18.75], shape=(5,), dtype=float32)\n"
          ],
          "name": "stdout"
        }
      ]
    },
    {
      "cell_type": "code",
      "metadata": {
        "colab": {
          "base_uri": "https://localhost:8080/"
        },
        "id": "_vAG-17lE-KJ",
        "outputId": "58050248-3f53-455d-bbff-ae53feca22c4"
      },
      "source": [
        "print(tf.reduce_sum(v1, axis = 0))"
      ],
      "execution_count": 10,
      "outputs": [
        {
          "output_type": "stream",
          "text": [
            "tf.Tensor([21. 16. 15. 44.], shape=(4,), dtype=float32)\n"
          ],
          "name": "stdout"
        }
      ]
    },
    {
      "cell_type": "code",
      "metadata": {
        "colab": {
          "base_uri": "https://localhost:8080/"
        },
        "id": "IFryHjzHFSBO",
        "outputId": "8b8b94f0-b5d1-47a3-e5cb-c4e29c4ffc28"
      },
      "source": [
        "print(tf.strings.substr(v2, 0,2))"
      ],
      "execution_count": 11,
      "outputs": [
        {
          "output_type": "stream",
          "text": [
            "<tf.RaggedTensor [[b'Ra'], [b'ca'], [b'da'], [b'st']]>\n"
          ],
          "name": "stdout"
        }
      ]
    },
    {
      "cell_type": "code",
      "metadata": {
        "colab": {
          "base_uri": "https://localhost:8080/",
          "height": 54
        },
        "id": "YSKnCVUvF8wI",
        "outputId": "b8ebe74d-a37b-425e-dd4a-4dfdc08531fb"
      },
      "source": [
        "display(tf.map_fn(tf.nn.softmax, v1))"
      ],
      "execution_count": 12,
      "outputs": [
        {
          "output_type": "display_data",
          "data": {
            "text/plain": [
              "<tf.RaggedTensor [[0.09003057330846786, 0.2447284758090973, 0.6652409434318542], [0.2689414322376251, 0.7310585975646973], [1.0], [], [6.305116853596367e-16, 1.7139083824518615e-15, 1.2664165777252073e-14, 1.0]]>"
            ]
          },
          "metadata": {
            "tags": []
          }
        }
      ]
    },
    {
      "cell_type": "code",
      "metadata": {
        "colab": {
          "base_uri": "https://localhost:8080/",
          "height": 34
        },
        "id": "_bHGEieGG0zg",
        "outputId": "b9d22bba-2a16-4960-b760-147209abbf8e"
      },
      "source": [
        "display(v1[:,:-2])"
      ],
      "execution_count": 13,
      "outputs": [
        {
          "output_type": "display_data",
          "data": {
            "text/plain": [
              "<tf.RaggedTensor [[1.0], [], [], [], [9.0, 10.0]]>"
            ]
          },
          "metadata": {
            "tags": []
          }
        }
      ]
    },
    {
      "cell_type": "code",
      "metadata": {
        "colab": {
          "base_uri": "https://localhost:8080/",
          "height": 34
        },
        "id": "MSLxhIi7JZZP",
        "outputId": "11d6a332-9f9d-4503-dde2-865e6d4f8f09"
      },
      "source": [
        "display(v1[:,:2])"
      ],
      "execution_count": 14,
      "outputs": [
        {
          "output_type": "display_data",
          "data": {
            "text/plain": [
              "<tf.RaggedTensor [[1.0, 2.0], [3.0, 4.0], [8.0], [], [9.0, 10.0]]>"
            ]
          },
          "metadata": {
            "tags": []
          }
        }
      ]
    },
    {
      "cell_type": "code",
      "metadata": {
        "colab": {
          "base_uri": "https://localhost:8080/",
          "height": 34
        },
        "id": "exJO7cAMJnG2",
        "outputId": "2129e1b6-490a-4d84-e9ab-947b80e32ff6"
      },
      "source": [
        "display(v1 + 10)#Broadcasting in raggged tensor dont add affect the empty slot"
      ],
      "execution_count": 15,
      "outputs": [
        {
          "output_type": "display_data",
          "data": {
            "text/plain": [
              "<tf.RaggedTensor [[11.0, 12.0, 13.0], [13.0, 14.0], [18.0], [], [19.0, 20.0, 22.0, 54.0]]>"
            ]
          },
          "metadata": {
            "tags": []
          }
        }
      ]
    },
    {
      "cell_type": "code",
      "metadata": {
        "colab": {
          "base_uri": "https://localhost:8080/"
        },
        "id": "pJJHcZHHJ3WT",
        "outputId": "56d5adaf-c7d8-4027-d2c4-ded1444c4939"
      },
      "source": [
        "#`elementwise transformation can also achieved by applying a function to a map_flat_values method as follow\n",
        "tf.ragged.map_flat_values(lambda x: x**2-1, v1)"
      ],
      "execution_count": 16,
      "outputs": [
        {
          "output_type": "execute_result",
          "data": {
            "text/plain": [
              "<tf.RaggedTensor [[0.0, 3.0, 8.0], [8.0, 15.0], [63.0], [], [80.0, 99.0, 143.0, 1935.0]]>"
            ]
          },
          "metadata": {
            "tags": []
          },
          "execution_count": 16
        }
      ]
    },
    {
      "cell_type": "code",
      "metadata": {
        "colab": {
          "base_uri": "https://localhost:8080/"
        },
        "id": "Zuc81jApLQhm",
        "outputId": "c7e3f94c-7f92-418f-e633-ad34500a455c"
      },
      "source": [
        "tf.map_fn(lambda x: x**2-1, v1) #We can also use the map function directly to get the same results"
      ],
      "execution_count": 17,
      "outputs": [
        {
          "output_type": "execute_result",
          "data": {
            "text/plain": [
              "<tf.RaggedTensor [[0.0, 3.0, 8.0], [8.0, 15.0], [63.0], [], [80.0, 99.0, 143.0, 1935.0]]>"
            ]
          },
          "metadata": {
            "tags": []
          },
          "execution_count": 17
        }
      ]
    },
    {
      "cell_type": "code",
      "metadata": {
        "id": "QKet-WWFLpwK"
      },
      "source": [
        "#Ragged tensor and keras API.\n",
        "#We can declare our inputs as into keras model as a ragged tensor.\n"
      ],
      "execution_count": 18,
      "outputs": []
    },
    {
      "cell_type": "code",
      "metadata": {
        "id": "CJ3w4wM7roSu"
      },
      "source": [
        "#Consider the following example of predicting list of pure fruits"
      ],
      "execution_count": 19,
      "outputs": []
    },
    {
      "cell_type": "code",
      "metadata": {
        "id": "J7PmB4AhrwmZ"
      },
      "source": [
        "fruits_bag = ['apple orange lemon',\n",
        "              'rice chicken',\n",
        "              'banana soup pineapple pork'\n",
        "              ,'cloth water berries',\n",
        "              'orange','jackfruit mango tomato']"
      ],
      "execution_count": 20,
      "outputs": []
    },
    {
      "cell_type": "code",
      "metadata": {
        "id": "yzDf8ehRs9d0"
      },
      "source": [
        "fruits = tf.constant(fruits_bag)"
      ],
      "execution_count": 21,
      "outputs": []
    },
    {
      "cell_type": "code",
      "metadata": {
        "id": "jknEV8t9tKIW"
      },
      "source": [
        "label = tf.constant([True, False, False,False, True, True])"
      ],
      "execution_count": 22,
      "outputs": []
    },
    {
      "cell_type": "code",
      "metadata": {
        "id": "LapvEr_-uTvf"
      },
      "source": [
        "#Create the suitable data format for training a simple LSTM\n",
        "#No padding is required since we applie a ragged tensor\n",
        "corpous_size = 1024\n",
        "words = tf.strings.split(fruits, ' ')"
      ],
      "execution_count": 23,
      "outputs": []
    },
    {
      "cell_type": "code",
      "metadata": {
        "id": "aYIR8q8Pvhxj"
      },
      "source": [
        "indices = tf.strings.to_hash_bucket_fast(words, corpous_size) #Getting the vocubulary indices for each word in a corpous"
      ],
      "execution_count": 24,
      "outputs": []
    },
    {
      "cell_type": "code",
      "metadata": {
        "colab": {
          "base_uri": "https://localhost:8080/"
        },
        "id": "6rnk5ufWv097",
        "outputId": "a5c29dcc-3430-4b36-d431-e0d690d178b5"
      },
      "source": [
        "indices"
      ],
      "execution_count": 25,
      "outputs": [
        {
          "output_type": "execute_result",
          "data": {
            "text/plain": [
              "<tf.RaggedTensor [[793, 253, 226], [127, 617], [36, 491, 194, 862], [256, 521, 53], [253], [706, 346, 693]]>"
            ]
          },
          "metadata": {
            "tags": []
          },
          "execution_count": 25
        }
      ]
    },
    {
      "cell_type": "code",
      "metadata": {
        "id": "skUdtZPTv2Vq"
      },
      "source": [
        "#We can create a now build a simple LSTM model with an embedding layer to classify if the list is pure fruit or not"
      ],
      "execution_count": 26,
      "outputs": []
    },
    {
      "cell_type": "code",
      "metadata": {
        "id": "Khuz-2Icwt9a"
      },
      "source": [
        "mymodel = tf.keras.Sequential()"
      ],
      "execution_count": 27,
      "outputs": []
    },
    {
      "cell_type": "code",
      "metadata": {
        "id": "001GzJ-HxP1T"
      },
      "source": [
        "mymodel.add(tf.keras.layers.Input(shape = [None], dtype= tf.float64,ragged=True))\n",
        "mymodel.add(tf.keras.layers.Embedding(input_dim=corpous_size, output_dim= 16))\n",
        "mymodel.add(tf.keras.layers.LSTM(units = 32, recurrent_dropout= 0.2, dropout=0.2, use_bias= False))\n",
        "mymodel.add(tf.keras.layers.Dense(units = 32))\n",
        "mymodel.add(tf.keras.layers.Activation(tf.nn.relu))\n",
        "mymodel.add(tf.keras.layers.Dense(units = 1))\n"
      ],
      "execution_count": 28,
      "outputs": []
    },
    {
      "cell_type": "code",
      "metadata": {
        "colab": {
          "base_uri": "https://localhost:8080/"
        },
        "id": "yFPmkv7G124N",
        "outputId": "15f14ff1-99a3-4495-bb4c-5e553207182e"
      },
      "source": [
        "mymodel.summary()"
      ],
      "execution_count": 29,
      "outputs": [
        {
          "output_type": "stream",
          "text": [
            "Model: \"sequential\"\n",
            "_________________________________________________________________\n",
            "Layer (type)                 Output Shape              Param #   \n",
            "=================================================================\n",
            "embedding (Embedding)        (None, None, 16)          16384     \n",
            "_________________________________________________________________\n",
            "lstm (LSTM)                  (None, 32)                6144      \n",
            "_________________________________________________________________\n",
            "dense (Dense)                (None, 32)                1056      \n",
            "_________________________________________________________________\n",
            "activation (Activation)      (None, 32)                0         \n",
            "_________________________________________________________________\n",
            "dense_1 (Dense)              (None, 1)                 33        \n",
            "=================================================================\n",
            "Total params: 23,617\n",
            "Trainable params: 23,617\n",
            "Non-trainable params: 0\n",
            "_________________________________________________________________\n"
          ],
          "name": "stdout"
        }
      ]
    },
    {
      "cell_type": "code",
      "metadata": {
        "id": "sAIcktTy16lg"
      },
      "source": [
        "mymodel.compile(loss = 'binary_crossentropy', optimizer = 'rmsprop', metrics= ['accuracy'])"
      ],
      "execution_count": 30,
      "outputs": []
    },
    {
      "cell_type": "code",
      "metadata": {
        "colab": {
          "base_uri": "https://localhost:8080/"
        },
        "id": "3-8KlogV2L4e",
        "outputId": "82f3baec-4499-495e-f19e-648bf446064c"
      },
      "source": [
        "mymodel.fit(x = indices, y = label, epochs = 5, verbose= 2)"
      ],
      "execution_count": 31,
      "outputs": [
        {
          "output_type": "stream",
          "text": [
            "Epoch 1/5\n"
          ],
          "name": "stdout"
        },
        {
          "output_type": "stream",
          "text": [
            "/usr/local/lib/python3.6/dist-packages/tensorflow/python/framework/indexed_slices.py:432: UserWarning: Converting sparse IndexedSlices to a dense Tensor of unknown shape. This may consume a large amount of memory.\n",
            "  \"Converting sparse IndexedSlices to a dense Tensor of unknown shape. \"\n"
          ],
          "name": "stderr"
        },
        {
          "output_type": "stream",
          "text": [
            "1/1 - 0s - loss: 7.7138 - accuracy: 0.5000\n",
            "Epoch 2/5\n",
            "1/1 - 0s - loss: 7.7125 - accuracy: 0.5000\n",
            "Epoch 3/5\n",
            "1/1 - 0s - loss: 7.7125 - accuracy: 0.5000\n",
            "Epoch 4/5\n",
            "1/1 - 0s - loss: 7.7125 - accuracy: 0.5000\n",
            "Epoch 5/5\n",
            "1/1 - 0s - loss: 7.7125 - accuracy: 0.5000\n"
          ],
          "name": "stdout"
        },
        {
          "output_type": "execute_result",
          "data": {
            "text/plain": [
              "<tensorflow.python.keras.callbacks.History at 0x7f2426e39470>"
            ]
          },
          "metadata": {
            "tags": []
          },
          "execution_count": 31
        }
      ]
    },
    {
      "cell_type": "code",
      "metadata": {
        "colab": {
          "base_uri": "https://localhost:8080/"
        },
        "id": "Wbtkvobv2hw8",
        "outputId": "9c57683d-53c5-4311-c029-f43c13248c93"
      },
      "source": [
        "mymodel.predict(indices)"
      ],
      "execution_count": 32,
      "outputs": [
        {
          "output_type": "execute_result",
          "data": {
            "text/plain": [
              "array([[-0.01687861],\n",
              "       [-0.01295061],\n",
              "       [-0.01507597],\n",
              "       [-0.01110675],\n",
              "       [-0.01405909],\n",
              "       [-0.01228353]], dtype=float32)"
            ]
          },
          "metadata": {
            "tags": []
          },
          "execution_count": 32
        }
      ]
    },
    {
      "cell_type": "code",
      "metadata": {
        "id": "zgOD0k2h4gVY"
      },
      "source": [
        "#Tensorflow.example (for variables - length features) with serialized strings using google prototype buffer encoding\n",
        "##Data encoded with tf.example\n",
        "#Consider a list of tf data encoded as tf.example\n",
        "import google.protobuf.text_format as gptf"
      ],
      "execution_count": 33,
      "outputs": []
    },
    {
      "cell_type": "code",
      "metadata": {
        "id": "zWX3hoyHGlmH"
      },
      "source": [
        "def make_tf_Edata(f):\n",
        "  dfm = gptf.Merge(f, tf.train.Example()).SerializeToString()# To return the merged data as a series of strings\n",
        "  return dfm"
      ],
      "execution_count": 34,
      "outputs": []
    },
    {
      "cell_type": "code",
      "metadata": {
        "id": "qWwopHUdIW5c"
      },
      "source": [
        "#Construct the list of feature's specification dictionary to use it in parsing to generate dictionary mapping feature's name to tensors\n",
        "data = [\n",
        "        make_tf_Edata(r'''\n",
        "        features{\n",
        "          feature {key: 'shape' value {bytes_list {value: ['oval','triangle','iregular']}}}\n",
        "          feature {key: 'size' value {int64_list {value:[23,18]}}}\n",
        "        }'''),\n",
        "       \n",
        "        make_tf_Edata(r'''\n",
        "        features{\n",
        "          feature{key: 'shape' value {bytes_list {value:['rectangle']}}}\n",
        "          feature{key: 'zize' value {int64_list {value: []}}}}'''),\n",
        "        \n",
        "        make_tf_Edata(r'''\n",
        "        features {\n",
        "          feature { key: 'shape' value {bytes_list {value: ['oval','square','spherical']}}}\n",
        "          feature {key: 'size' value {int64_list {value:[16,10,14]}}}}''')\n",
        "]"
      ],
      "execution_count": 35,
      "outputs": []
    },
    {
      "cell_type": "code",
      "metadata": {
        "id": "FW2BAbZBPZuX"
      },
      "source": [
        "#Parse the serilized data using tf.io.parse_example\n",
        "#Note that our features length are not uniform, so we apply ragged tensor to be specific\n",
        "dict_ragged = {\n",
        "    'shape': tf.io.RaggedFeature(tf.string),\n",
        "    'size': tf.io.RaggedFeature(tf.int64)\n",
        "}"
      ],
      "execution_count": 36,
      "outputs": []
    },
    {
      "cell_type": "code",
      "metadata": {
        "colab": {
          "base_uri": "https://localhost:8080/"
        },
        "id": "28neuHiKTP-0",
        "outputId": "7c3b1651-ef79-408f-b1a7-4cdac5806c9c"
      },
      "source": [
        "#Parsing \n",
        "mytensors_features = tf.io.parse_example(data, dict_ragged)\n",
        "for name, value in mytensors_features.items():\n",
        "  print(\"{}={}\".format(name, value))"
      ],
      "execution_count": 37,
      "outputs": [
        {
          "output_type": "stream",
          "text": [
            "shape=<tf.RaggedTensor [[b'oval', b'triangle', b'iregular'], [b'rectangle'], [b'oval', b'square', b'spherical']]>\n",
            "size=<tf.RaggedTensor [[23, 18], [], [16, 10, 14]]>\n"
          ],
          "name": "stdout"
        }
      ]
    },
    {
      "cell_type": "code",
      "metadata": {
        "id": "osgFSLs7T1uz"
      },
      "source": [
        "#Building complex datasets (ragged tf-data) using tf.data"
      ],
      "execution_count": 38,
      "outputs": []
    },
    {
      "cell_type": "code",
      "metadata": {
        "id": "WmtjhkroU4j_"
      },
      "source": [
        "#A fn to print a dictionary dataset in a nice format\n",
        "def fn_dict_reader(dfm):\n",
        "  for i, element in enumerate(dfm):\n",
        "    print(f\"Element: {i}\")\n",
        "    for (j, k) in element.items():\n",
        "      print(f\"{j:>14}, {k}\")"
      ],
      "execution_count": 39,
      "outputs": []
    },
    {
      "cell_type": "code",
      "metadata": {
        "id": "sxD18gkJXsk3"
      },
      "source": [
        "#Build tf.dataset from the above defined ragged tensor dictionary\n",
        "dfm_ragged = tf.data.Dataset.from_tensor_slices(mytensors_features)"
      ],
      "execution_count": 40,
      "outputs": []
    },
    {
      "cell_type": "code",
      "metadata": {
        "id": "Ce1gbyT8biPq"
      },
      "source": [
        "#Read the data using the above defined reader"
      ],
      "execution_count": 41,
      "outputs": []
    },
    {
      "cell_type": "code",
      "metadata": {
        "colab": {
          "base_uri": "https://localhost:8080/"
        },
        "id": "dwY9X98vbqKv",
        "outputId": "4661a426-cf10-42b1-b1e0-66951f733b39"
      },
      "source": [
        "fn_dict_reader(dfm_ragged)"
      ],
      "execution_count": 42,
      "outputs": [
        {
          "output_type": "stream",
          "text": [
            "Element: 0\n",
            "         shape, [b'oval' b'triangle' b'iregular']\n",
            "          size, [23 18]\n",
            "Element: 1\n",
            "         shape, [b'rectangle']\n",
            "          size, []\n",
            "Element: 2\n",
            "         shape, [b'oval' b'square' b'spherical']\n",
            "          size, [16 10 14]\n"
          ],
          "name": "stdout"
        }
      ]
    },
    {
      "cell_type": "code",
      "metadata": {
        "id": "LOXaCSbFbvUF"
      },
      "source": [
        "#We can also combine some elements into batches and create a batched ragged tf.data"
      ],
      "execution_count": 43,
      "outputs": []
    },
    {
      "cell_type": "code",
      "metadata": {
        "id": "QzJO-5DZcU-3"
      },
      "source": [
        "batch_dfm_raged = dfm_ragged.batch(2) #Will deliver only 2 groups "
      ],
      "execution_count": 44,
      "outputs": []
    },
    {
      "cell_type": "code",
      "metadata": {
        "colab": {
          "base_uri": "https://localhost:8080/"
        },
        "id": "lVj-aGiBccqX",
        "outputId": "33aa31e1-2934-4552-8b19-1b84e2e2a565"
      },
      "source": [
        "#Read using the defined dict_reader above\n",
        "fn_dict_reader(batch_dfm_raged)"
      ],
      "execution_count": 45,
      "outputs": [
        {
          "output_type": "stream",
          "text": [
            "Element: 0\n",
            "         shape, <tf.RaggedTensor [[b'oval', b'triangle', b'iregular'], [b'rectangle']]>\n",
            "          size, <tf.RaggedTensor [[23, 18], []]>\n",
            "Element: 1\n",
            "         shape, <tf.RaggedTensor [[b'oval', b'square', b'spherical']]>\n",
            "          size, <tf.RaggedTensor [[16, 10, 14]]>\n"
          ],
          "name": "stdout"
        }
      ]
    },
    {
      "cell_type": "code",
      "metadata": {
        "id": "F1cifM-nclHR"
      },
      "source": [
        "#Unbatch will flatten the data back to its original shape\n",
        "dfm_flatten = batch_dfm_raged.unbatch()\n"
      ],
      "execution_count": 46,
      "outputs": []
    },
    {
      "cell_type": "code",
      "metadata": {
        "colab": {
          "base_uri": "https://localhost:8080/"
        },
        "id": "_PvW1dgpdEZT",
        "outputId": "f4f53a08-238c-4929-c3ff-8295dc239a98"
      },
      "source": [
        "#Read using the above defined dictionary reader\n",
        "fn_dict_reader(dfm_flatten)"
      ],
      "execution_count": 47,
      "outputs": [
        {
          "output_type": "stream",
          "text": [
            "Element: 0\n",
            "         shape, [b'oval' b'triangle' b'iregular']\n",
            "          size, [23 18]\n",
            "Element: 1\n",
            "         shape, [b'rectangle']\n",
            "          size, []\n",
            "Element: 2\n",
            "         shape, [b'oval' b'square' b'spherical']\n",
            "          size, [16 10 14]\n"
          ],
          "name": "stdout"
        }
      ]
    },
    {
      "cell_type": "code",
      "metadata": {
        "id": "UToXGHaVdN8m"
      },
      "source": [
        "#Using tf.function() to decorate ragged tensors:\n",
        "#Consider the following example\n",
        "@tf.function\n",
        "def fn_comp(a,axis):\n",
        "  res = tf.concat([a, tf.reverse(a,[axis])], axis)\n",
        "  return res"
      ],
      "execution_count": 48,
      "outputs": []
    },
    {
      "cell_type": "code",
      "metadata": {
        "id": "P-C9VF2JpOTl"
      },
      "source": [
        "#Calling the fn\n",
        "con_tensor = fn_comp(tf.constant([[1,2,3],[4,5,6],[4,2,3]],dtype=tf.float32),axis = 1)"
      ],
      "execution_count": 49,
      "outputs": []
    },
    {
      "cell_type": "code",
      "metadata": {
        "colab": {
          "base_uri": "https://localhost:8080/",
          "height": 85
        },
        "id": "CrIQkdvgrJVj",
        "outputId": "99b34d6c-f5cf-4662-9944-c6d0c75d9d07"
      },
      "source": [
        "display(con_tensor)"
      ],
      "execution_count": 50,
      "outputs": [
        {
          "output_type": "display_data",
          "data": {
            "text/plain": [
              "<tf.Tensor: shape=(3, 6), dtype=float32, numpy=\n",
              "array([[1., 2., 3., 3., 2., 1.],\n",
              "       [4., 5., 6., 6., 5., 4.],\n",
              "       [4., 2., 3., 3., 2., 4.]], dtype=float32)>"
            ]
          },
          "metadata": {
            "tags": []
          }
        }
      ]
    },
    {
      "cell_type": "code",
      "metadata": {
        "colab": {
          "base_uri": "https://localhost:8080/"
        },
        "id": "zwKZ-vLJrN2i",
        "outputId": "e274c8ab-9f54-4ac4-995b-71c64081cddb"
      },
      "source": [
        "fn_comp(tf.ragged.constant([[1],[2,3,4],[1,2,3,4,5,6],[3,4,]], dtype = tf.int32), axis = 1)"
      ],
      "execution_count": 51,
      "outputs": [
        {
          "output_type": "execute_result",
          "data": {
            "text/plain": [
              "<tf.RaggedTensor [[1, 1], [2, 3, 4, 4, 3, 2], [1, 2, 3, 4, 5, 6, 6, 5, 4, 3, 2, 1], [3, 4, 4, 3]]>"
            ]
          },
          "metadata": {
            "tags": []
          },
          "execution_count": 51
        }
      ]
    },
    {
      "cell_type": "code",
      "metadata": {
        "id": "EEaLeFkAGu2Z"
      },
      "source": [
        "#High dimension ragged tensors\n",
        "t3d_ragged = tf.ragged.constant([[[1,2]],[[2,3,4,5]],[[1]],[[2,1,3,4,5,6]],[[3,5,6,7]]])"
      ],
      "execution_count": 59,
      "outputs": []
    },
    {
      "cell_type": "code",
      "metadata": {
        "colab": {
          "base_uri": "https://localhost:8080/",
          "height": 34
        },
        "id": "O3qCvsG7HQib",
        "outputId": "6cb36e29-d6c9-4525-dc0f-5ff7f7226b3b"
      },
      "source": [
        "display(t3d_ragged)"
      ],
      "execution_count": 60,
      "outputs": [
        {
          "output_type": "display_data",
          "data": {
            "text/plain": [
              "<tf.RaggedTensor [[[1, 2]], [[2, 3, 4, 5]], [[1]], [[2, 1, 3, 4, 5, 6]], [[3, 5, 6, 7]]]>"
            ]
          },
          "metadata": {
            "tags": []
          }
        }
      ]
    },
    {
      "cell_type": "code",
      "metadata": {
        "colab": {
          "base_uri": "https://localhost:8080/",
          "height": 34
        },
        "id": "h6b69pFKHVH9",
        "outputId": "c2583690-d2c7-4eec-e7a8-b7073eb138c0"
      },
      "source": [
        "display(t3d_ragged[1]) # second element in each row"
      ],
      "execution_count": 63,
      "outputs": [
        {
          "output_type": "display_data",
          "data": {
            "text/plain": [
              "<tf.RaggedTensor [[2, 3, 4, 5]]>"
            ]
          },
          "metadata": {
            "tags": []
          }
        }
      ]
    },
    {
      "cell_type": "code",
      "metadata": {
        "colab": {
          "base_uri": "https://localhost:8080/",
          "height": 34
        },
        "id": "hY1EhKu7Hfse",
        "outputId": "2e0b36b3-4fcb-4f8d-f9ca-1ae775483b93"
      },
      "source": [
        "display(t3d_ragged[:,:1])"
      ],
      "execution_count": 65,
      "outputs": [
        {
          "output_type": "display_data",
          "data": {
            "text/plain": [
              "<tf.RaggedTensor [[[1, 2]], [[2, 3, 4, 5]], [[1]], [[2, 1, 3, 4, 5, 6]], [[3, 5, 6, 7]]]>"
            ]
          },
          "metadata": {
            "tags": []
          }
        }
      ]
    },
    {
      "cell_type": "code",
      "metadata": {
        "colab": {
          "base_uri": "https://localhost:8080/",
          "height": 34
        },
        "id": "uD70TGN8I4AY",
        "outputId": "a103904f-3739-4ca6-9917-da694c07f24d"
      },
      "source": [
        "display(tf.reduce_max(tf.map_fn(lambda x: x**3-1,t3d_ragged)))"
      ],
      "execution_count": 71,
      "outputs": [
        {
          "output_type": "display_data",
          "data": {
            "text/plain": [
              "<tf.Tensor: shape=(), dtype=int32, numpy=342>"
            ]
          },
          "metadata": {
            "tags": []
          }
        }
      ]
    },
    {
      "cell_type": "code",
      "metadata": {
        "colab": {
          "base_uri": "https://localhost:8080/"
        },
        "id": "lWpXh-URJVtR",
        "outputId": "9289b999-f345-4ef4-ce94-d950c2b8db45"
      },
      "source": [
        "tf.reduce_max(tf.constant([[2,2,3,4,1],[3,5,7,4,3]]))"
      ],
      "execution_count": 69,
      "outputs": [
        {
          "output_type": "execute_result",
          "data": {
            "text/plain": [
              "<tf.Tensor: shape=(), dtype=int32, numpy=7>"
            ]
          },
          "metadata": {
            "tags": []
          },
          "execution_count": 69
        }
      ]
    },
    {
      "cell_type": "code",
      "metadata": {
        "colab": {
          "base_uri": "https://localhost:8080/"
        },
        "id": "Tleuv5UzKCuz",
        "outputId": "ff23af64-d37e-42a7-962c-b5184720c510"
      },
      "source": [
        "tf.map_fn(lambda x: x**3, t3d_ragged)"
      ],
      "execution_count": 70,
      "outputs": [
        {
          "output_type": "execute_result",
          "data": {
            "text/plain": [
              "<tf.RaggedTensor [[[1, 8]], [[8, 27, 64, 125]], [[1]], [[8, 1, 27, 64, 125, 216]], [[27, 125, 216, 343]]]>"
            ]
          },
          "metadata": {
            "tags": []
          },
          "execution_count": 70
        }
      ]
    },
    {
      "cell_type": "code",
      "metadata": {
        "id": "-QLA3pzHKyZu"
      },
      "source": [
        "#Conversion between ragged tensors and regular tensors vs sparse tensors.\n",
        "#We can easily do conversion between the thensors type like as follow\n",
        "my_ragged = tf.ragged.constant([[[1,2,3]],[[3]],[[3,4,5,2,3]],[[5,4]],[[3,2,4,5,6,7,1]]])"
      ],
      "execution_count": 102,
      "outputs": []
    },
    {
      "cell_type": "code",
      "metadata": {
        "id": "r-dea3L4NU-n"
      },
      "source": [
        "tf_regular = my_ragged.to_tensor(default_value = 0, shape = (5,1,10))"
      ],
      "execution_count": 103,
      "outputs": []
    },
    {
      "cell_type": "code",
      "metadata": {
        "colab": {
          "base_uri": "https://localhost:8080/"
        },
        "id": "2_UNGZJqOSsd",
        "outputId": "404d699a-5520-437f-ca24-4b93e30aa57d"
      },
      "source": [
        "tf_regular"
      ],
      "execution_count": 104,
      "outputs": [
        {
          "output_type": "execute_result",
          "data": {
            "text/plain": [
              "<tf.Tensor: shape=(5, 1, 10), dtype=int32, numpy=\n",
              "array([[[1, 2, 3, 0, 0, 0, 0, 0, 0, 0]],\n",
              "\n",
              "       [[3, 0, 0, 0, 0, 0, 0, 0, 0, 0]],\n",
              "\n",
              "       [[3, 4, 5, 2, 3, 0, 0, 0, 0, 0]],\n",
              "\n",
              "       [[5, 4, 0, 0, 0, 0, 0, 0, 0, 0]],\n",
              "\n",
              "       [[3, 2, 4, 5, 6, 7, 1, 0, 0, 0]]], dtype=int32)>"
            ]
          },
          "metadata": {
            "tags": []
          },
          "execution_count": 104
        }
      ]
    },
    {
      "cell_type": "code",
      "metadata": {
        "colab": {
          "base_uri": "https://localhost:8080/"
        },
        "id": "RvAGq7TWOxrQ",
        "outputId": "fed80285-49b7-4c37-a493-44b6ff097ab8"
      },
      "source": [
        "#To get back to the ragged tensor we can write:\n",
        "try:\n",
        "  tf.RaggedTensor.from_tensor(tf_regular, padding = tf.zeros(shape = tf_regular.shape[-1]))\n",
        "except Exception as e:\n",
        "  print(f\"{type(e)}: {e}\")"
      ],
      "execution_count": 107,
      "outputs": [
        {
          "output_type": "stream",
          "text": [
            "<class 'ValueError'>: Tensor conversion requested dtype int32 for Tensor with dtype float32: <tf.Tensor: shape=(10,), dtype=float32, numpy=array([0., 0., 0., 0., 0., 0., 0., 0., 0., 0.], dtype=float32)>\n"
          ],
          "name": "stdout"
        }
      ]
    },
    {
      "cell_type": "code",
      "metadata": {
        "id": "QklGO1oiQ_0B"
      },
      "source": [
        "d = tf.constant([[1,2,3,3,3,3],[1,4,9,3,3,3],[1,3,3,3,3,3],[2,6,7,8,9,3]])"
      ],
      "execution_count": 99,
      "outputs": []
    },
    {
      "cell_type": "code",
      "metadata": {
        "id": "QgKmY-d5T-F8"
      },
      "source": [
        "rag_bac = tf.RaggedTensor.from_tensor(d, padding = 3)"
      ],
      "execution_count": 100,
      "outputs": []
    },
    {
      "cell_type": "code",
      "metadata": {
        "colab": {
          "base_uri": "https://localhost:8080/"
        },
        "id": "jDsShwlwUIIo",
        "outputId": "6332c4a9-8053-4490-de8c-c0fe558d1ab8"
      },
      "source": [
        "rag_bac"
      ],
      "execution_count": 101,
      "outputs": [
        {
          "output_type": "execute_result",
          "data": {
            "text/plain": [
              "<tf.RaggedTensor [[1, 2], [1, 4, 9], [1], [2, 6, 7, 8, 9]]>"
            ]
          },
          "metadata": {
            "tags": []
          },
          "execution_count": 101
        }
      ]
    },
    {
      "cell_type": "code",
      "metadata": {
        "colab": {
          "base_uri": "https://localhost:8080/"
        },
        "id": "UCEQah6jUKWJ",
        "outputId": "f442062d-5873-4cd4-9142-45af4f6f2564"
      },
      "source": [
        "print(rag_bac.to_sparse() #Get the sparse version"
      ],
      "execution_count": 109,
      "outputs": [
        {
          "output_type": "stream",
          "text": [
            "SparseTensor(indices=tf.Tensor(\n",
            "[[0 0]\n",
            " [0 1]\n",
            " [1 0]\n",
            " [1 1]\n",
            " [1 2]\n",
            " [2 0]\n",
            " [3 0]\n",
            " [3 1]\n",
            " [3 2]\n",
            " [3 3]\n",
            " [3 4]], shape=(11, 2), dtype=int64), values=tf.Tensor([1 2 1 4 9 1 2 6 7 8 9], shape=(11,), dtype=int32), dense_shape=tf.Tensor([4 5], shape=(2,), dtype=int64))\n"
          ],
          "name": "stdout"
        }
      ]
    },
    {
      "cell_type": "code",
      "metadata": {
        "colab": {
          "base_uri": "https://localhost:8080/"
        },
        "id": "jGfSuFusVzZU",
        "outputId": "bbd13927-1813-46e6-a0e0-e11ca1cbe085"
      },
      "source": [
        "print(rag_bac.to_list())"
      ],
      "execution_count": 110,
      "outputs": [
        {
          "output_type": "stream",
          "text": [
            "[[1, 2], [1, 4, 9], [1], [2, 6, 7, 8, 9]]\n"
          ],
          "name": "stdout"
        }
      ]
    }
  ]
}